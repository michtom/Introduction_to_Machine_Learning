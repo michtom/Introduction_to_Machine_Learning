{
 "cells": [
  {
   "cell_type": "markdown",
   "metadata": {},
   "source": [
    "# Wstęp do uczenia maszynowego - Projekt 1\n",
    "### Mikołaj Piórczyński, Michał Tomczyk, grupa 3\n"
   ]
  },
  {
   "cell_type": "code",
   "execution_count": 1,
   "metadata": {},
   "outputs": [],
   "source": [
    "import numpy as np\n",
    "import pandas as pd\n",
    "import matplotlib.pyplot as plt\n",
    "import seaborn as sns\n",
    "\n",
    "from sklearn.model_selection import train_test_split \n",
    "\n",
    "# Preprocessing\n",
    "from sklearn.impute import KNNImputer, SimpleImputer\n",
    "from sklearn.preprocessing import KBinsDiscretizer, FunctionTransformer\n",
    "from sklearn.pipeline import Pipeline\n",
    "from sklearn.compose import ColumnTransformer\n",
    "from sklearn.preprocessing import OneHotEncoder, OrdinalEncoder, StandardScaler, MinMaxScaler\n",
    "\n",
    "# Model \n",
    "from sklearn.dummy import DummyClassifier\n",
    "from sklearn.linear_model import LogisticRegression\n",
    "from sklearn.tree import DecisionTreeClassifier\n",
    "from sklearn.ensemble import RandomForestClassifier\n",
    "from xgboost import XGBClassifier\n",
    "from sklearn.svm import SVC\n",
    "\n",
    "# Feature Engineering \n",
    "from sklearn.feature_selection import VarianceThreshold, RFE\n",
    "\n",
    "# Hyperparameters tuning \n",
    "from sklearn.model_selection import GridSearchCV, RandomizedSearchCV, KFold\n",
    "\n",
    "# Evaluation \n",
    "from sklearn.metrics import accuracy_score, precision_score, recall_score, f1_score, confusion_matrix\n",
    "from sklearn.metrics import precision_recall_curve, roc_curve, auc, roc_auc_score  \n",
    "from sklearn.model_selection import cross_val_score\n",
    "\n",
    "# XAI\n",
    "import dalex as dx\n",
    "import shap\n",
    "import warnings\n",
    "warnings.filterwarnings(\"ignore\")"
   ]
  },
  {
   "cell_type": "code",
   "execution_count": 2,
   "metadata": {},
   "outputs": [
    {
     "data": {
      "text/html": [
       "<div>\n",
       "<style scoped>\n",
       "    .dataframe tbody tr th:only-of-type {\n",
       "        vertical-align: middle;\n",
       "    }\n",
       "\n",
       "    .dataframe tbody tr th {\n",
       "        vertical-align: top;\n",
       "    }\n",
       "\n",
       "    .dataframe thead th {\n",
       "        text-align: right;\n",
       "    }\n",
       "</style>\n",
       "<table border=\"1\" class=\"dataframe\">\n",
       "  <thead>\n",
       "    <tr style=\"text-align: right;\">\n",
       "      <th></th>\n",
       "      <th>age</th>\n",
       "      <th>workclass</th>\n",
       "      <th>fnlwgt</th>\n",
       "      <th>education</th>\n",
       "      <th>education_num</th>\n",
       "      <th>marital_status</th>\n",
       "      <th>occupation</th>\n",
       "      <th>relationship</th>\n",
       "      <th>race</th>\n",
       "      <th>sex</th>\n",
       "      <th>capital_gain</th>\n",
       "      <th>capital_loss</th>\n",
       "      <th>hours_per_week</th>\n",
       "      <th>native_country</th>\n",
       "      <th>income_level</th>\n",
       "    </tr>\n",
       "  </thead>\n",
       "  <tbody>\n",
       "    <tr>\n",
       "      <th>0</th>\n",
       "      <td>39</td>\n",
       "      <td>State-gov</td>\n",
       "      <td>77516.0</td>\n",
       "      <td>Bachelors</td>\n",
       "      <td>13</td>\n",
       "      <td>Never-married</td>\n",
       "      <td>Adm-clerical</td>\n",
       "      <td>Not-in-family</td>\n",
       "      <td>White</td>\n",
       "      <td>Male</td>\n",
       "      <td>2174.0</td>\n",
       "      <td>0.0</td>\n",
       "      <td>40.0</td>\n",
       "      <td>United-States</td>\n",
       "      <td>&lt;=50K</td>\n",
       "    </tr>\n",
       "    <tr>\n",
       "      <th>1</th>\n",
       "      <td>50</td>\n",
       "      <td>Self-emp-not-inc</td>\n",
       "      <td>83311.0</td>\n",
       "      <td>Bachelors</td>\n",
       "      <td>13</td>\n",
       "      <td>Married-civ-spouse</td>\n",
       "      <td>Exec-managerial</td>\n",
       "      <td>Husband</td>\n",
       "      <td>White</td>\n",
       "      <td>Male</td>\n",
       "      <td>0.0</td>\n",
       "      <td>0.0</td>\n",
       "      <td>13.0</td>\n",
       "      <td>United-States</td>\n",
       "      <td>&lt;=50K</td>\n",
       "    </tr>\n",
       "    <tr>\n",
       "      <th>2</th>\n",
       "      <td>38</td>\n",
       "      <td>Private</td>\n",
       "      <td>215646.0</td>\n",
       "      <td>HS-grad</td>\n",
       "      <td>9</td>\n",
       "      <td>Divorced</td>\n",
       "      <td>Handlers-cleaners</td>\n",
       "      <td>Not-in-family</td>\n",
       "      <td>White</td>\n",
       "      <td>Male</td>\n",
       "      <td>0.0</td>\n",
       "      <td>0.0</td>\n",
       "      <td>40.0</td>\n",
       "      <td>United-States</td>\n",
       "      <td>&lt;=50K</td>\n",
       "    </tr>\n",
       "    <tr>\n",
       "      <th>3</th>\n",
       "      <td>53</td>\n",
       "      <td>Private</td>\n",
       "      <td>234721.0</td>\n",
       "      <td>11th</td>\n",
       "      <td>7</td>\n",
       "      <td>Married-civ-spouse</td>\n",
       "      <td>Handlers-cleaners</td>\n",
       "      <td>Husband</td>\n",
       "      <td>Black</td>\n",
       "      <td>Male</td>\n",
       "      <td>0.0</td>\n",
       "      <td>0.0</td>\n",
       "      <td>40.0</td>\n",
       "      <td>United-States</td>\n",
       "      <td>&lt;=50K</td>\n",
       "    </tr>\n",
       "    <tr>\n",
       "      <th>4</th>\n",
       "      <td>28</td>\n",
       "      <td>Private</td>\n",
       "      <td>338409.0</td>\n",
       "      <td>Bachelors</td>\n",
       "      <td>13</td>\n",
       "      <td>Married-civ-spouse</td>\n",
       "      <td>Prof-specialty</td>\n",
       "      <td>Wife</td>\n",
       "      <td>Black</td>\n",
       "      <td>Female</td>\n",
       "      <td>0.0</td>\n",
       "      <td>0.0</td>\n",
       "      <td>40.0</td>\n",
       "      <td>Cuba</td>\n",
       "      <td>&lt;=50K</td>\n",
       "    </tr>\n",
       "  </tbody>\n",
       "</table>\n",
       "</div>"
      ],
      "text/plain": [
       "   age         workclass    fnlwgt  education  education_num  \\\n",
       "0   39         State-gov   77516.0  Bachelors             13   \n",
       "1   50  Self-emp-not-inc   83311.0  Bachelors             13   \n",
       "2   38           Private  215646.0    HS-grad              9   \n",
       "3   53           Private  234721.0       11th              7   \n",
       "4   28           Private  338409.0  Bachelors             13   \n",
       "\n",
       "       marital_status         occupation   relationship   race     sex  \\\n",
       "0       Never-married       Adm-clerical  Not-in-family  White    Male   \n",
       "1  Married-civ-spouse    Exec-managerial        Husband  White    Male   \n",
       "2            Divorced  Handlers-cleaners  Not-in-family  White    Male   \n",
       "3  Married-civ-spouse  Handlers-cleaners        Husband  Black    Male   \n",
       "4  Married-civ-spouse     Prof-specialty           Wife  Black  Female   \n",
       "\n",
       "   capital_gain  capital_loss  hours_per_week native_country income_level  \n",
       "0        2174.0           0.0            40.0  United-States        <=50K  \n",
       "1           0.0           0.0            13.0  United-States        <=50K  \n",
       "2           0.0           0.0            40.0  United-States        <=50K  \n",
       "3           0.0           0.0            40.0  United-States        <=50K  \n",
       "4           0.0           0.0            40.0           Cuba        <=50K  "
      ]
     },
     "execution_count": 2,
     "metadata": {},
     "output_type": "execute_result"
    }
   ],
   "source": [
    "df = pd.read_csv('data/census_income_dataset.csv')\n",
    "df.head()"
   ]
  },
  {
   "cell_type": "markdown",
   "metadata": {},
   "source": [
    "### Braki danych "
   ]
  },
  {
   "cell_type": "code",
   "execution_count": 3,
   "metadata": {},
   "outputs": [],
   "source": [
    "# zmienne kategoryczne\n",
    "df.replace('?', np.nan, inplace=True)\n",
    "\n",
    "# zmienne numeryczne\n",
    "df.replace(-100000, np.nan, inplace=True)"
   ]
  },
  {
   "cell_type": "markdown",
   "metadata": {},
   "source": [
    "Zmienna `native_country` ma kategorię, która ma znacznie więcej obserwacji niż inne kategorie, więc możemy tą wartością zastąpić braki danych."
   ]
  },
  {
   "cell_type": "code",
   "execution_count": 4,
   "metadata": {},
   "outputs": [],
   "source": [
    "df['native_country'].fillna(value=\"United-States\", inplace=True)"
   ]
  },
  {
   "cell_type": "markdown",
   "metadata": {},
   "source": [
    "W przypadku zmiennych `workclass` oraz `occupation` zamieńmy braki na wartości z największym WoE."
   ]
  },
  {
   "cell_type": "code",
   "execution_count": 5,
   "metadata": {},
   "outputs": [],
   "source": [
    "df['income_level'] = df.loc[:, 'income_level'].map({'<=50K': 0, '>50K': 1})\n",
    "woe_workclass = (pd.crosstab(df['workclass'],df['income_level'],normalize='columns')\n",
    "                            .assign(woe = lambda x: np.log(x[1]/x[0]))).sort_values('woe',ascending=False).reset_index()\n",
    "woe_occupation = (pd.crosstab(df['occupation'],df['income_level'],normalize='columns')\n",
    "                            .assign(woe = lambda x: np.log(x[1]/x[0]))).sort_values('woe',ascending=False).reset_index()                            "
   ]
  },
  {
   "cell_type": "code",
   "execution_count": 6,
   "metadata": {},
   "outputs": [],
   "source": [
    "\n",
    "df['workclass'].fillna(value = woe_workclass.iloc[0,0],inplace=True)\n",
    "\n",
    "df['occupation'].fillna(value=woe_occupation.iloc[0,0], inplace = True)"
   ]
  },
  {
   "cell_type": "markdown",
   "metadata": {},
   "source": [
    "### Dummy model"
   ]
  },
  {
   "cell_type": "code",
   "execution_count": 7,
   "metadata": {},
   "outputs": [
    {
     "name": "stdout",
     "output_type": "stream",
     "text": [
      "Accuracy for dummy model: 0.7606715119254785\n"
     ]
    }
   ],
   "source": [
    "X = df.drop(columns=['income_level'])\n",
    "y = df['income_level']\n",
    "\n",
    "X_train, X_test, y_train, y_test = train_test_split(X, y, train_size=0.8, random_state=123, stratify=y)\n",
    "\n",
    "dc = DummyClassifier(strategy='most_frequent')\n",
    "dc.fit(X_train, y_train)\n",
    "\n",
    "preds = dc.predict(X_test)\n",
    "print(f'Accuracy for dummy model: {accuracy_score(y_test, preds)}')"
   ]
  },
  {
   "cell_type": "markdown",
   "metadata": {},
   "source": [
    "### Ewaluacja"
   ]
  },
  {
   "cell_type": "code",
   "execution_count": 8,
   "metadata": {},
   "outputs": [],
   "source": [
    "def show_metrics(model, X, y):\n",
    "    \"\"\"\n",
    "    Prints out the most important metrics\n",
    "    \"\"\" \n",
    "    y_pred = model.predict(X)\n",
    "    \n",
    "    sns.heatmap(confusion_matrix(y, y_pred), annot=True)\n",
    "    plt.show()\n",
    "    \n",
    "    print('Accuracy: ', accuracy_score(y, y_pred))\n",
    "    print('Precision: ', precision_score(y, y_pred))\n",
    "    print('Recall: ', recall_score(y, y_pred))\n",
    "    print('F1 score: ', f1_score(y, y_pred))"
   ]
  },
  {
   "cell_type": "code",
   "execution_count": 34,
   "metadata": {},
   "outputs": [],
   "source": [
    "def gini_train_val(model, X_train, y_train, X_val, y_val):\n",
    "        \n",
    "    y_pred_proba = model.predict_proba(X_train)[::,1]\n",
    "    fpr, tpr, _ = roc_curve(y_train,  y_pred_proba)\n",
    "    plt.plot(fpr, tpr, label='X_train')\n",
    "    roc_auc = auc(fpr, tpr)\n",
    "    gini_train = (2 * roc_auc) - 1\n",
    "    \n",
    "    y_pred_proba = model.predict_proba(X_val)[::,1]\n",
    "    fpr, tpr, _ = roc_curve(y_val,  y_pred_proba)\n",
    "    plt.plot(fpr, tpr, label='X_val')\n",
    "    roc_auc = auc(fpr, tpr)\n",
    "    gini_val = (2 * roc_auc) - 1\n",
    "\n",
    "    plt.ylabel('True Positive Rate')\n",
    "    plt.xlabel('False Positive Rate')\n",
    "    plt.title(\"ROC Curve\")\n",
    "    plt.legend()\n",
    "    plt.show()\n",
    "    \n",
    "    print(\"gini_train: %.4f\" % gini_train)    \n",
    "    print(\"gini_val: %.4f\" % gini_val)\n",
    "\n",
    "    return"
   ]
  },
  {
   "cell_type": "markdown",
   "metadata": {},
   "source": [
    "### Wybór zmiennych "
   ]
  },
  {
   "cell_type": "markdown",
   "metadata": {},
   "source": [
    "Zmienna `fnlwgt` to przypisane do poszczególnych obserwacji wagi odzwierciedlającę wielkość populacji, z której próbkowane były poszczególne obserwacje. Zmienna ta nie będzie przydatna przy modelowaniu, dlatego usuwamy ją. Usuwamy też zmienne `sex` oraz `race`."
   ]
  },
  {
   "cell_type": "code",
   "execution_count": 12,
   "metadata": {},
   "outputs": [],
   "source": [
    "df.drop(columns=['fnlwgt','sex','race'], inplace=True)"
   ]
  },
  {
   "cell_type": "markdown",
   "metadata": {},
   "source": [
    "### Inżynieria cech"
   ]
  },
  {
   "cell_type": "code",
   "execution_count": 13,
   "metadata": {},
   "outputs": [],
   "source": [
    "def group_marital_status(df: pd.DataFrame) -> pd.DataFrame:\n",
    "    df_res = df.copy()\n",
    "    df_res['marital_status'] = df_res['marital_status'].replace(\n",
    "        ['Married-civ-spouse', 'Married-AF-spouse'], 'Married'\n",
    "    )\n",
    "    \n",
    "    df_res['marital_status'] = df_res['marital_status'].replace(\n",
    "        ['Never-married', 'Divorced', 'Separated', 'Widowed', 'Married-spouse-absent'], 'Living-alone'\n",
    "    )\n",
    "    \n",
    "    return df_res  "
   ]
  },
  {
   "cell_type": "code",
   "execution_count": 14,
   "metadata": {},
   "outputs": [],
   "source": [
    "def create_living_alone(df: pd.DataFrame) -> pd.DataFrame:\n",
    "    df_res = df.copy()\n",
    "    df_res['living_alone'] = df_res['marital_status'].replace(\n",
    "        ['Married-civ-spouse', 'Married-AF-spouse'], 'Married'\n",
    "    )\n",
    "    \n",
    "    df_res['living_alone'] = df_res['living_alone'].replace(\n",
    "        ['Never-married', 'Divorced', 'Separated', 'Widowed', 'Married-spouse-absent'], 'Living-alone'\n",
    "    )\n",
    "    \n",
    "    return df_res  "
   ]
  },
  {
   "cell_type": "code",
   "execution_count": 15,
   "metadata": {},
   "outputs": [],
   "source": [
    "def group_race(df: pd.DataFrame) -> pd.DataFrame:\n",
    "    df_res = df.copy()\n",
    "    df_res['marital_status'] = df_res['marital_status'].replace(\n",
    "        ['Asian-Pac-Islander', 'Amer-Indian-Eskimo'], 'Other'\n",
    "    )\n",
    "    \n",
    "    return df_res  "
   ]
  },
  {
   "cell_type": "code",
   "execution_count": 16,
   "metadata": {},
   "outputs": [],
   "source": [
    "def group_education(df: pd.DataFrame) -> pd.DataFrame:\n",
    "    df_res = df.copy()\n",
    "    df_res['education'] = df_res['education'].replace(\n",
    "            ['Preschool', '1st-4th', '5th-6th', '7th-8th', '9th', '10th', '11th', '12th'], 'Obligatory'\n",
    "    )\n",
    "    df_res['education'] = df_res['education'].replace(['HS-grad', 'Some-college'], 'HS-college')\n",
    "    df_res['education'] = df_res['education'].replace(['Assoc-voc', 'Assoc-acdm'], 'Assoc')\n",
    "    df_res['education'] = df_res['education'].replace(['Prof-school', 'Doctorate'], 'Academic')\n",
    "    return df_res\n"
   ]
  },
  {
   "cell_type": "code",
   "execution_count": 17,
   "metadata": {},
   "outputs": [],
   "source": [
    "def group_countries(df: pd.DataFrame) -> pd.DataFrame:\n",
    "    df_res = df.copy()\n",
    "    df_res['native_country'] = df_res['native_country'].apply(lambda x: x if x == \"United-States\" or x == \"Mexico\" else \"Other\")\n",
    "    return df_res"
   ]
  },
  {
   "cell_type": "code",
   "execution_count": 18,
   "metadata": {},
   "outputs": [],
   "source": [
    "def group_gdp(df: pd.DataFrame, gdp: pd.DataFrame) -> pd.DataFrame:\n",
    "    df_res = df.copy()\n",
    "    low = gdp[gdp['Country Name'] == 'Low income']['gdp'].values[0]\n",
    "    low_middle = gdp[gdp['Country Name'] == 'Lower middle income']['gdp'].values[0]\n",
    "    upper_middle = gdp[gdp['Country Name'] == 'Upper middle income']['gdp'].values[0]\n",
    "    high = gdp[gdp['Country Name'] == 'High income']['gdp'].values[0]\n",
    "\n",
    "    conditions = [\n",
    "        (df_res[\"gdp\"].lt(low)),\n",
    "        (df_res[\"gdp\"].ge(low) & df_res[\"gdp\"].lt(low_middle)),\n",
    "        (df_res[\"gdp\"].ge(low_middle) & df_res[\"gdp\"].lt(upper_middle)),\n",
    "        (df_res[\"gdp\"].ge(upper_middle) & df_res[\"gdp\"].lt(high)),\n",
    "        (df_res[\"gdp\"].ge(high)),\n",
    "    ]\n",
    "    choices = [\"Low income\", \"Lower middle income\", \"Middle income\", \"Upper middle income\", \"High income\"]\n",
    "\n",
    "    df_res[\"gdp_level\"] = np.select(conditions, choices)\n",
    "    return df_res"
   ]
  },
  {
   "cell_type": "markdown",
   "metadata": {},
   "source": [
    "## Logistic Regression"
   ]
  },
  {
   "cell_type": "code",
   "execution_count": 20,
   "metadata": {},
   "outputs": [
    {
     "name": "stdout",
     "output_type": "stream",
     "text": [
      "xgb_model cross validation accuracy score: 0.8401709876182339 +/- 0.0019902436836335426 min: 0.8382597568777991 max: 0.8426103646833013\n"
     ]
    }
   ],
   "source": [
    "gdp = pd.read_csv('data/gdp.csv')\n",
    "\n",
    "merged = df.merge(gdp, how='left', left_on='native_country', right_on='Country Name')\n",
    "merged.drop(columns=['Country Name', 'Country Code'], inplace=True)\n",
    "merged.fillna(method='ffill', inplace=True)\n",
    "\n",
    "df2 = group_gdp(merged, gdp)\n",
    "df2 = group_countries(df2)\n",
    "df2 = group_education(df2)\n",
    "df2 = group_race(df2)\n",
    "df2 = create_living_alone(df2)\n",
    "\n",
    "X = df2.drop(columns=['income_level', 'gdp', 'education_num'])\n",
    "y = df2['income_level']\n",
    "\n",
    "X_train, X_test, y_train, y_test = train_test_split(X, y, train_size=0.8, random_state=123, stratify=y)\n",
    "\n",
    "cat_features = ['workclass', 'marital_status', 'living_alone', 'gdp_level', 'occupation', 'relationship', 'native_country']\n",
    "\n",
    "transformer = ColumnTransformer(\n",
    "    [\n",
    "        ('log', FunctionTransformer(np.log1p), ['capital_loss']),\n",
    "        ('std_scaler', StandardScaler(), ['age', 'capital_loss']),\n",
    "        ('min_max_scaler', MinMaxScaler(), ['capital_gain', 'hours_per_week']),\n",
    "        ('ordinal', OrdinalEncoder(), ['education']),\n",
    "        ('one_hot_encoder', OneHotEncoder(handle_unknown='ignore'), cat_features)\n",
    "    ],\n",
    "    remainder='passthrough'\n",
    ")\n",
    "\n",
    "lr_model = LogisticRegression(random_state=123, n_jobs=-1)\n",
    "\n",
    "kfolds = 5\n",
    "split = KFold(n_splits=kfolds, shuffle=True, random_state=123)\n",
    "pipe =  Pipeline(\n",
    "    [\n",
    "        ('transformer', transformer),\n",
    "        ('model', lr_model)\n",
    "    ]\n",
    ")\n",
    "cv_results = cross_val_score(pipe, X_train, y_train, cv=split, scoring='accuracy', n_jobs=-1)\n",
    "print(f'xgb_model cross validation accuracy score: {cv_results.mean()} +/- {cv_results.std()} min: {cv_results.min()} max: {cv_results.max()}')"
   ]
  },
  {
   "cell_type": "code",
   "execution_count": 41,
   "metadata": {},
   "outputs": [
    {
     "data": {
      "text/plain": [
       "Pipeline(steps=[('transformer',\n",
       "                 ColumnTransformer(remainder='passthrough',\n",
       "                                   transformers=[('log',\n",
       "                                                  FunctionTransformer(func=<ufunc 'log1p'>),\n",
       "                                                  ['capital_loss']),\n",
       "                                                 ('std_scaler',\n",
       "                                                  StandardScaler(),\n",
       "                                                  ['age', 'capital_loss']),\n",
       "                                                 ('min_max_scaler',\n",
       "                                                  MinMaxScaler(),\n",
       "                                                  ['capital_gain',\n",
       "                                                   'hours_per_week']),\n",
       "                                                 ('ordinal', OrdinalEncoder(),\n",
       "                                                  ['education']),\n",
       "                                                 ('one_hot_encoder',\n",
       "                                                  OneHotEncoder(handle_unknown='ignore'),\n",
       "                                                  ['workclass',\n",
       "                                                   'marital_status',\n",
       "                                                   'living_alone', 'gdp_level',\n",
       "                                                   'occupation', 'relationship',\n",
       "                                                   'native_country'])])),\n",
       "                ('model',\n",
       "                 LogisticRegression(C=0.001, n_jobs=-1, penalty='l1',\n",
       "                                    random_state=123, solver='liblinear'))])"
      ]
     },
     "execution_count": 41,
     "metadata": {},
     "output_type": "execute_result"
    }
   ],
   "source": [
    "lr_model = LogisticRegression(random_state=123, n_jobs=-1, penalty='l1', C=0.001, solver='liblinear')\n",
    "best_random = Pipeline(\n",
    "    [\n",
    "        ('transformer', transformer),\n",
    "        ('model', lr_model)\n",
    "    ]\n",
    ")\n",
    "best_random.fit(X_train, y_train)"
   ]
  },
  {
   "cell_type": "code",
   "execution_count": 42,
   "metadata": {},
   "outputs": [
    {
     "data": {
      "image/png": "[encoded data removed]",
      "text/plain": [
       "<Figure size 432x288 with 2 Axes>"
      ]
     },
     "metadata": {
      "needs_background": "light"
     },
     "output_type": "display_data"
    },
    {
     "name": "stdout",
     "output_type": "stream",
     "text": [
      "Accuracy:  0.7820657180878289\n",
      "Precision:  0.6710310965630114\n",
      "Recall:  0.17536355859709152\n",
      "F1 score:  0.27806035944387925\n"
     ]
    }
   ],
   "source": [
    "show_metrics(best_random, X_test, y_test)"
   ]
  },
  {
   "cell_type": "code",
   "execution_count": 24,
   "metadata": {},
   "outputs": [
    {
     "data": {
      "image/png": "[encoded data removed]",
      "text/plain": [
       "<Figure size 432x288 with 1 Axes>"
      ]
     },
     "metadata": {
      "needs_background": "light"
     },
     "output_type": "display_data"
    },
    {
     "name": "stdout",
     "output_type": "stream",
     "text": [
      "gini_train: 0.7941\n"
     ]
    },
    {
     "data": {
      "image/png": "[encoded data removed]",
      "text/plain": [
       "<Figure size 432x288 with 1 Axes>"
      ]
     },
     "metadata": {
      "needs_background": "light"
     },
     "output_type": "display_data"
    },
    {
     "name": "stdout",
     "output_type": "stream",
     "text": [
      "gini_val: 0.7863\n"
     ]
    }
   ],
   "source": [
    "gini_train_val(best_random, X_train, y_train, X_test, y_test)"
   ]
  },
  {
   "cell_type": "markdown",
   "metadata": {},
   "source": [
    "## XGB"
   ]
  },
  {
   "cell_type": "code",
   "execution_count": 28,
   "metadata": {},
   "outputs": [
    {
     "name": "stdout",
     "output_type": "stream",
     "text": [
      "xgb_model cross validation accuracy score: 0.8723671425911561 +/- 0.0018298461141139921 min: 0.8698656429942418 max: 0.8749840051183622\n"
     ]
    }
   ],
   "source": [
    "gdp = pd.read_csv('data/gdp.csv')\n",
    "\n",
    "merged = df.merge(gdp, how='left', left_on='native_country', right_on='Country Name')\n",
    "merged.drop(columns=['Country Name', 'Country Code'], inplace=True)\n",
    "merged.fillna(method='ffill', inplace=True)\n",
    "\n",
    "df2 = group_gdp(merged, gdp)\n",
    "df2 = group_countries(df2)\n",
    "df2 = group_education(df2)\n",
    "df2 = group_race(df2)\n",
    "df2 = create_living_alone(df2)\n",
    "\n",
    "X = df2.drop(columns=['income_level', 'gdp', 'education_num'])\n",
    "y = df2['income_level']\n",
    "\n",
    "X_train, X_test, y_train, y_test = train_test_split(X, y, train_size=0.8, random_state=123, stratify=y)\n",
    "\n",
    "cat_features = ['workclass', 'marital_status', 'living_alone', 'gdp_level', 'occupation', 'relationship', 'native_country']\n",
    "\n",
    "transformer = ColumnTransformer(\n",
    "    [\n",
    "        ('log', FunctionTransformer(np.log1p), ['capital_loss']),\n",
    "        ('std_scaler', StandardScaler(), ['age', 'capital_loss']),\n",
    "        ('min_max_scaler', MinMaxScaler(), ['capital_gain', 'hours_per_week']),\n",
    "        ('ordinal', OrdinalEncoder(), ['education']),\n",
    "        ('one_hot_encoder', OneHotEncoder(handle_unknown='ignore'), cat_features)\n",
    "    ],\n",
    "    remainder='passthrough'\n",
    ")\n",
    "\n",
    "xgb_model = XGBClassifier(random_state=123, n_jobs=-1)\n",
    "\n",
    "kfolds = 5\n",
    "split = KFold(n_splits=kfolds, shuffle=True, random_state=123)\n",
    "pipe = Pipeline(\n",
    "    [\n",
    "        ('transformer', transformer),\n",
    "        ('model', xgb_model)\n",
    "    ]\n",
    ")\n",
    "\n",
    "cv_results = cross_val_score(pipe, X_train, y_train, cv=split, scoring='accuracy', n_jobs=-1)\n",
    "print(f'xgb_model cross validation accuracy score: {cv_results.mean()} +/- {cv_results.std()} min: {cv_results.min()} max: {cv_results.max()}')"
   ]
  },
  {
   "cell_type": "code",
   "execution_count": 37,
   "metadata": {},
   "outputs": [
    {
     "name": "stdout",
     "output_type": "stream",
     "text": [
      "[00:09:31] WARNING: D:\\bld\\xgboost-split_1637426510059\\work\\src\\learner.cc:1115: Starting in XGBoost 1.3.0, the default evaluation metric used with the objective 'binary:logistic' was changed from 'error' to 'logloss'. Explicitly set eval_metric if you'd like to restore the old behavior.\n"
     ]
    },
    {
     "data": {
      "text/plain": [
       "Pipeline(steps=[('transformer',\n",
       "                 ColumnTransformer(remainder='passthrough',\n",
       "                                   transformers=[('log',\n",
       "                                                  FunctionTransformer(func=<ufunc 'log1p'>),\n",
       "                                                  ['capital_loss']),\n",
       "                                                 ('std_scaler',\n",
       "                                                  StandardScaler(),\n",
       "                                                  ['age', 'capital_loss']),\n",
       "                                                 ('min_max_scaler',\n",
       "                                                  MinMaxScaler(),\n",
       "                                                  ['capital_gain',\n",
       "                                                   'hours_per_week']),\n",
       "                                                 ('ordinal', OrdinalEncoder(),\n",
       "                                                  ['education']),\n",
       "                                                 ('one_hot_encoder',\n",
       "                                                  OneHotEncode...\n",
       "                               gamma=5, gpu_id=-1, importance_type=None,\n",
       "                               interaction_constraints='', learning_rate=0.3,\n",
       "                               max_delta_step=0, max_depth=5,\n",
       "                               min_child_weight=1, missing=nan,\n",
       "                               monotone_constraints='()', n_estimators=200,\n",
       "                               n_jobs=-1, num_parallel_tree=1, predictor='auto',\n",
       "                               random_state=123, reg_alpha=0, reg_lambda=1,\n",
       "                               scale_pos_weight=1, subsample=0.8,\n",
       "                               tree_method='exact', validate_parameters=1,\n",
       "                               verbosity=None))])"
      ]
     },
     "execution_count": 37,
     "metadata": {},
     "output_type": "execute_result"
    }
   ],
   "source": [
    "xgb_model = XGBClassifier(random_state=123, n_jobs=-1, n_estimators=200, max_depth=5, learning_rate=0.3, gamma=5, subsample=0.8)\n",
    "best_random = Pipeline(\n",
    "    [\n",
    "        ('transformer', transformer),\n",
    "        ('model', xgb_model)\n",
    "    ]\n",
    ")\n",
    "best_random.fit(X_train, y_train)"
   ]
  },
  {
   "cell_type": "code",
   "execution_count": 38,
   "metadata": {},
   "outputs": [
    {
     "data": {
      "image/png": "[encoded data removed]",
      "text/plain": [
       "<Figure size 432x288 with 2 Axes>"
      ]
     },
     "metadata": {
      "needs_background": "light"
     },
     "output_type": "display_data"
    },
    {
     "name": "stdout",
     "output_type": "stream",
     "text": [
      "Accuracy:  0.8742962432183438\n",
      "Precision:  0.7911857292759706\n",
      "Recall:  0.6449957228400343\n",
      "F1 score:  0.710650329877474\n"
     ]
    }
   ],
   "source": [
    "show_metrics(best_random, X_test, y_test)"
   ]
  },
  {
   "cell_type": "code",
   "execution_count": 39,
   "metadata": {},
   "outputs": [
    {
     "data": {
      "image/png": "[encoded data removed]",
      "text/plain": [
       "<Figure size 432x288 with 1 Axes>"
      ]
     },
     "metadata": {
      "needs_background": "light"
     },
     "output_type": "display_data"
    },
    {
     "name": "stdout",
     "output_type": "stream",
     "text": [
      "gini_train: 0.8748\n",
      "gini_val: 0.8528\n"
     ]
    }
   ],
   "source": [
    "gini_train_val(best_random, X_train, y_train, X_test, y_test)"
   ]
  }
 ],
 "metadata": {
  "kernelspec": {
   "display_name": "Python 3",
   "language": "python",
   "name": "python3"
  },
  "language_info": {
   "codemirror_mode": {
    "name": "ipython",
    "version": 3
   },
   "file_extension": ".py",
   "mimetype": "text/x-python",
   "name": "python",
   "nbconvert_exporter": "python",
   "pygments_lexer": "ipython3",
   "version": "3.8.3"
  }
 },
 "nbformat": 4,
 "nbformat_minor": 5
}
